{
 "cells": [
  {
   "cell_type": "code",
   "execution_count": 1,
   "id": "b04e093b",
   "metadata": {},
   "outputs": [],
   "source": [
    "import matplotlib.pyplot as plt\n",
    "import numpy as np"
   ]
  },
  {
   "cell_type": "code",
   "execution_count": 2,
   "id": "1903c1cf",
   "metadata": {},
   "outputs": [],
   "source": [
    "def plot(x, y, title):\n",
    "    plt.plot(x, y, 'o')\n",
    "    plt.xlabel('x')\n",
    "    plt.ylabel('y')\n",
    "    plt.title(title)\n",
    "    plt.show()"
   ]
  },
  {
   "cell_type": "markdown",
   "id": "214f4292",
   "metadata": {},
   "source": [
    "# Increasing events with Ag111 source"
   ]
  },
  {
   "cell_type": "code",
   "execution_count": null,
   "id": "baba9a14",
   "metadata": {},
   "outputs": [],
   "source": [
    "events = [5000, 10000, 50000, 100000,500000,1000000,5000000,10000000] #keV\n",
    "\n",
    "#data \n",
    "SSB = [0.324902,0.333705,]#Gy-1 Mbp-1\n",
    "SSBp = [0.0414769,0.0319505,]#Gy-1 Mbp-1\n",
    "dSSB = [0.0103692,0.00887513,]#Gy-1 Mbp-1\n",
    "SSBtotal = [0.376748,0.37453,] #Gy-1 Mbp-1\n",
    "\n",
    "DSB = [0.0120974,0.0150877,]#Gy-1 Mbp-1\n",
    "DSBp = [0.00518461,0.00355005,]#Gy-1 Mbp-1\n",
    "DSBpp =[0,0.000887513,]#Gy-1 Mbp-1\n",
    "DSBtotal = [0.017282,0.0195253,]#Gy-1 Mbp-1\n",
    "\n",
    "SSB_direct  = [0.0449333,0.0399381,]#Gy-1 Mbp-1\n",
    "SSB_indirect  = [0.312805,0.322167,]#Gy-1 Mbp-1\n",
    "SSB_mixed  = [0.0190102,0.0124252,]#Gy-1 Mbp-1\n",
    "\n",
    "DSB_direct  = [0.00345641,0.00266254,]#Gy-1 Mbp-1\n",
    "DSB_indirect  = [0.0103692,0.0115377,]#Gy-1 Mbp-1\n",
    "DSB_mixed  = [0,0.000887513,]#Gy-1 Mbp-1\n",
    "DSB_hybrid  = [0.00345641,0.00443756,]#Gy-1 Mbp-1\n"
   ]
  }
 ],
 "metadata": {
  "kernelspec": {
   "display_name": "Python 3 (ipykernel)",
   "language": "python",
   "name": "python3"
  },
  "language_info": {
   "codemirror_mode": {
    "name": "ipython",
    "version": 3
   },
   "file_extension": ".py",
   "mimetype": "text/x-python",
   "name": "python",
   "nbconvert_exporter": "python",
   "pygments_lexer": "ipython3",
   "version": "3.9.13"
  }
 },
 "nbformat": 4,
 "nbformat_minor": 5
}
